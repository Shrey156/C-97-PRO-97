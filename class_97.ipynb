{
  "nbformat": 4,
  "nbformat_minor": 0,
  "metadata": {
    "colab": {
      "name": "class 97.ipynb",
      "provenance": [],
      "collapsed_sections": [],
      "authorship_tag": "ABX9TyOEW2/hCN2lAKU4HV7PKrID",
      "include_colab_link": true
    },
    "kernelspec": {
      "name": "python3",
      "display_name": "Python 3"
    },
    "language_info": {
      "name": "python"
    }
  },
  "cells": [
    {
      "cell_type": "markdown",
      "metadata": {
        "id": "view-in-github",
        "colab_type": "text"
      },
      "source": [
        "<a href=\"https://colab.research.google.com/github/Shrey156/C-97-PRO-97/blob/main/class_97.ipynb\" target=\"_parent\"><img src=\"https://colab.research.google.com/assets/colab-badge.svg\" alt=\"Open In Colab\"/></a>"
      ]
    },
    {
      "cell_type": "code",
      "execution_count": null,
      "metadata": {
        "colab": {
          "base_uri": "https://localhost:8080/"
        },
        "id": "tG2d2gu15xeA",
        "outputId": "b906f763-54e0-459b-ce07-c8e50682d37e"
      },
      "outputs": [
        {
          "output_type": "stream",
          "name": "stdout",
          "text": [
            "[2, 3, 3]\n",
            "5\n"
          ]
        }
      ],
      "source": [
        "lists = [1,2,3,3,5]\n",
        "print(lists[1:4])\n",
        "print(lists[-1])"
      ]
    },
    {
      "cell_type": "code",
      "source": [
        "#slicing the list in -ve is starting from left to right\n",
        "list2 = [\"hello\",\"hi\",\"how\"]\n",
        "print(list2[-3:-1])"
      ],
      "metadata": {
        "colab": {
          "base_uri": "https://localhost:8080/"
        },
        "id": "d08eqWWm7K2Q",
        "outputId": "49c4e049-be7a-4359-a505-f5b4a2542033"
      },
      "execution_count": null,
      "outputs": [
        {
          "output_type": "stream",
          "name": "stdout",
          "text": [
            "['hello', 'hi']\n"
          ]
        }
      ]
    },
    {
      "cell_type": "code",
      "source": [
        "marks_lists =[52,45,66,62,35,62,69,15,20,23,65,88,55,98,46,98,32,65,98,65,54,41]\n",
        "count=0\n",
        "for i in marks_lists:\n",
        "  if i == 62:\n",
        "    count+=1\n",
        "count"
      ],
      "metadata": {
        "colab": {
          "base_uri": "https://localhost:8080/"
        },
        "id": "hcRVXf8o8q0U",
        "outputId": "df65d05c-a6d9-4d48-face-5e03e1aa3f09"
      },
      "execution_count": null,
      "outputs": [
        {
          "output_type": "execute_result",
          "data": {
            "text/plain": [
              "2"
            ]
          },
          "metadata": {},
          "execution_count": 16
        }
      ]
    },
    {
      "cell_type": "code",
      "source": [
        "lower_limit = int(input(\"Enter the lower range : \"))\n",
        "upper_limit = int(input(\"Enter the upper range : \"))\n",
        "divide_num = int(input(\"Enter the number which you want it multiples : \"))\n",
        "for i in range(lower_limit,upper_limit+1):\n",
        "  if i%divide_num==0:\n",
        "    print(i)"
      ],
      "metadata": {
        "colab": {
          "base_uri": "https://localhost:8080/"
        },
        "id": "kpIzShxD9oxB",
        "outputId": "3b5ce764-b12f-4745-860e-dceb78129edc"
      },
      "execution_count": null,
      "outputs": [
        {
          "output_type": "stream",
          "name": "stdout",
          "text": [
            "Enter the lower range : 5\n",
            "Enter the upper range : 10\n",
            "Enter the number which you want it multiples : 2\n",
            "6\n",
            "8\n",
            "10\n"
          ]
        }
      ]
    },
    {
      "cell_type": "code",
      "source": [
        "user_input = input(\"Enter any sentence : \")\n",
        "array_new = user_input.split()\n",
        "array_new"
      ],
      "metadata": {
        "colab": {
          "base_uri": "https://localhost:8080/"
        },
        "id": "s5ddqTS7_qyG",
        "outputId": "71752bd2-476a-4a60-88cb-403f4cdad086"
      },
      "execution_count": null,
      "outputs": [
        {
          "name": "stdout",
          "output_type": "stream",
          "text": [
            "Enter any sentence : hi hhe\n"
          ]
        },
        {
          "output_type": "execute_result",
          "data": {
            "text/plain": [
              "['hi', 'hhe']"
            ]
          },
          "metadata": {},
          "execution_count": 30
        }
      ]
    },
    {
      "cell_type": "code",
      "source": [
        "row = int(input(\"Enter the rows : \"))\n",
        "s=\"*\"\n",
        "def stars(rows):\n",
        "  for i in range(rows):\n",
        "    print(\"*\"*i)\n",
        "stars(row+1)"
      ],
      "metadata": {
        "colab": {
          "base_uri": "https://localhost:8080/"
        },
        "id": "_UDtA-6wCvzH",
        "outputId": "f4965415-28b5-4496-b832-7db7f4391183"
      },
      "execution_count": 4,
      "outputs": [
        {
          "output_type": "stream",
          "name": "stdout",
          "text": [
            "Enter the rows : 5\n",
            "\n",
            "*\n",
            "**\n",
            "***\n",
            "****\n",
            "*****\n"
          ]
        }
      ]
    }
  ]
}